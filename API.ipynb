{
 "cells": [
  {
   "cell_type": "markdown",
   "metadata": {},
   "source": [
    "**API`S**"
   ]
  },
  {
   "cell_type": "code",
   "execution_count": 14,
   "metadata": {},
   "outputs": [],
   "source": [
    "import pandas as pd\n",
    "import numpy as np"
   ]
  },
  {
   "cell_type": "code",
   "execution_count": 15,
   "metadata": {},
   "outputs": [],
   "source": [
    "df = pd.read_csv(\"df_transformado.csv\")"
   ]
  },
  {
   "cell_type": "code",
   "execution_count": 16,
   "metadata": {},
   "outputs": [],
   "source": [
    "df.drop_duplicates(inplace=True)\n",
    "df.drop_duplicates(subset=['id'],inplace=True)"
   ]
  },
  {
   "cell_type": "code",
   "execution_count": 8,
   "metadata": {},
   "outputs": [
    {
     "name": "stdout",
     "output_type": "stream",
     "text": [
      "<class 'pandas.core.frame.DataFrame'>\n",
      "Int64Index: 45346 entries, 0 to 45375\n",
      "Data columns (total 19 columns):\n",
      " #   Column                 Non-Null Count  Dtype  \n",
      "---  ------                 --------------  -----  \n",
      " 0   belongs_to_collection  4485 non-null   object \n",
      " 1   budget                 45346 non-null  float64\n",
      " 2   genres                 42962 non-null  object \n",
      " 3   id                     45346 non-null  int64  \n",
      " 4   original_language      45335 non-null  object \n",
      " 5   overview               44405 non-null  object \n",
      " 6   popularity             45346 non-null  float64\n",
      " 7   production_companies   33557 non-null  object \n",
      " 8   production_countries   39138 non-null  object \n",
      " 9   release_date           45346 non-null  object \n",
      " 10  revenue                45346 non-null  float64\n",
      " 11  runtime                45100 non-null  float64\n",
      " 12  spoken_languages       41580 non-null  object \n",
      " 13  status                 45266 non-null  object \n",
      " 14  tagline                20387 non-null  object \n",
      " 15  title                  45346 non-null  object \n",
      " 16  vote_average           45346 non-null  float64\n",
      " 17  release_year           45346 non-null  int64  \n",
      " 18  return                 45346 non-null  float64\n",
      "dtypes: float64(6), int64(2), object(11)\n",
      "memory usage: 6.9+ MB\n"
     ]
    }
   ],
   "source": [
    "df.info()"
   ]
  },
  {
   "cell_type": "markdown",
   "metadata": {},
   "source": [
    "API 1"
   ]
  },
  {
   "cell_type": "code",
   "execution_count": 9,
   "metadata": {},
   "outputs": [],
   "source": [
    "def peliculas_mes(mes):\n",
    "\n",
    "    months_translated= {\n",
    "    'enero': 'January',\n",
    "    'febrero': 'February',\n",
    "    'marzo': 'March',\n",
    "    'abril': 'April',\n",
    "    'mayo': 'May',\n",
    "    'junio': 'June',\n",
    "    'julio': 'July',\n",
    "    'agosto': 'August',\n",
    "    'septiembre': 'September',\n",
    "    'octubre': 'October',\n",
    "    'noviembre': 'November',\n",
    "    'diciembre': 'December'}  \n",
    "    fechas = pd.to_datetime(df['release_date'], format= '%Y-%m-%d')\n",
    "    n_mes = fechas[fechas.dt.strftime('%B').str.capitalize() == months_translated[str(mes).lower()]]\n",
    "    respuesta = n_mes.shape[0]\n",
    "    return {'mes':mes, 'cantidad':respuesta}"
   ]
  },
  {
   "cell_type": "code",
   "execution_count": 10,
   "metadata": {},
   "outputs": [
    {
     "data": {
      "text/plain": [
       "{'mes': 'marzo', 'cantidad': 3549}"
      ]
     },
     "execution_count": 10,
     "metadata": {},
     "output_type": "execute_result"
    }
   ],
   "source": [
    "peliculas_mes('marzo')"
   ]
  },
  {
   "cell_type": "markdown",
   "metadata": {},
   "source": [
    "API 2"
   ]
  },
  {
   "cell_type": "code",
   "execution_count": 11,
   "metadata": {},
   "outputs": [],
   "source": [
    "def peliculas_dia(dia):\n",
    "    \n",
    "    day_translated= {\n",
    "    'lunes': 'Monday',\n",
    "    'martes': 'Tuesday',\n",
    "    'miercoles': 'Wednesday',\n",
    "    'jueves': 'Thursday',\n",
    "    'viernes': 'Friday',\n",
    "    'sabado': 'Saturday',\n",
    "    'domingo': 'Sunday'}   \n",
    "    fechas = pd.to_datetime(df['release_date'], format= '%Y-%m-%d')\n",
    "    n_dia = fechas[fechas.dt.strftime('%A').str.capitalize() == day_translated[str(dia).lower()]]\n",
    "    respuesta = n_dia.shape[0]\n",
    "    return {'mes':dia, 'cantidad':respuesta}"
   ]
  },
  {
   "cell_type": "code",
   "execution_count": 12,
   "metadata": {},
   "outputs": [
    {
     "data": {
      "text/plain": [
       "{'mes': 'lunes', 'cantidad': 3500}"
      ]
     },
     "execution_count": 12,
     "metadata": {},
     "output_type": "execute_result"
    }
   ],
   "source": [
    "peliculas_dia('lunes')"
   ]
  },
  {
   "cell_type": "markdown",
   "metadata": {},
   "source": [
    "API 3"
   ]
  },
  {
   "cell_type": "code",
   "execution_count": 13,
   "metadata": {},
   "outputs": [],
   "source": [
    "def franquicia(franquicia):\n",
    "    f_low=franquicia.lower()\n",
    "    fran=df[['belongs_to_collection','revenue']].dropna(subset=['belongs_to_collection'])\n",
    "    fran=fran[fran['belongs_to_collection'].map(str.lower).apply(lambda x: f_low in x)]\n",
    "    cantidad=fran.shape[0]\n",
    "    ganancia_total=fran['revenue'].sum()\n",
    "    ganancia_promedio=fran['revenue'].mean()\n",
    "    return {'franquicia':franquicia, 'cantidad':cantidad, 'ganancia_total':ganancia_total, 'ganancia_promedio':ganancia_promedio}"
   ]
  },
  {
   "cell_type": "code",
   "execution_count": 14,
   "metadata": {},
   "outputs": [
    {
     "data": {
      "text/plain": [
       "{'franquicia': 'toy story collection',\n",
       " 'cantidad': 3,\n",
       " 'ganancia_total': 1937890605.0,\n",
       " 'ganancia_promedio': 645963535.0}"
      ]
     },
     "execution_count": 14,
     "metadata": {},
     "output_type": "execute_result"
    }
   ],
   "source": [
    "franquicia('toy story collection')"
   ]
  },
  {
   "cell_type": "markdown",
   "metadata": {},
   "source": [
    "API 4"
   ]
  },
  {
   "cell_type": "code",
   "execution_count": 15,
   "metadata": {},
   "outputs": [],
   "source": [
    "import unicodedata as unicodedata"
   ]
  },
  {
   "cell_type": "code",
   "execution_count": 25,
   "metadata": {},
   "outputs": [],
   "source": [
    "def peliculas_pais(pais):\n",
    "    m1 = df[['title', 'production_countries']]\n",
    "    if isinstance(pais, str):\n",
    "        pais = pais.lower()\n",
    "        pais = unicodedata.normalize('NFKD', pais).encode('ascii', 'ignore').decode('utf-8','ignore')\n",
    "        cantidad = m1['title'][m1['production_countries'].str.contains(pais)==True]\n",
    "        cantidad = df['production_countries'].apply(lambda x: str(x).lower()).map(str.lower).apply(lambda x: pais in x)\n",
    "        respuesta = cantidad.sum()\n",
    "    return {'pais': pais, 'cantidad': respuesta}"
   ]
  },
  {
   "cell_type": "code",
   "execution_count": 26,
   "metadata": {},
   "outputs": [
    {
     "data": {
      "text/plain": [
       "{'pais': 'colombia', 'cantidad': 34}"
      ]
     },
     "execution_count": 26,
     "metadata": {},
     "output_type": "execute_result"
    }
   ],
   "source": [
    "peliculas_pais('colombia')"
   ]
  },
  {
   "cell_type": "markdown",
   "metadata": {},
   "source": [
    "API 5"
   ]
  },
  {
   "cell_type": "code",
   "execution_count": 19,
   "metadata": {},
   "outputs": [],
   "source": [
    "def productoras(productora):\n",
    "    prod=df[['production_companies','revenue']].dropna()\n",
    "    prod['production_companies']=prod['production_companies'].map(str.lower)\n",
    "    prod=prod[prod.production_companies.str.contains(productora.lower(), regex=False)]\n",
    "    cantidad=prod.shape[0]\n",
    "    ganancia_total=prod['revenue'].sum()\n",
    "    return {'productora':productora, 'ganancia_total':ganancia_total, 'cantidad':cantidad}"
   ]
  },
  {
   "cell_type": "code",
   "execution_count": 20,
   "metadata": {},
   "outputs": [
    {
     "data": {
      "text/plain": [
       "{'productora': 'pixar', 'ganancia_total': 11188533734.0, 'cantidad': 52}"
      ]
     },
     "execution_count": 20,
     "metadata": {},
     "output_type": "execute_result"
    }
   ],
   "source": [
    "productoras('pixar')"
   ]
  },
  {
   "cell_type": "markdown",
   "metadata": {},
   "source": [
    "API 6"
   ]
  },
  {
   "cell_type": "code",
   "execution_count": 21,
   "metadata": {},
   "outputs": [],
   "source": [
    "def retorno(pelicula):\n",
    "    pelicula_df = df.loc[df['title'] == pelicula.title()]\n",
    "    inversion = pelicula_df['budget'].iloc[0].item()\n",
    "    ganancia = pelicula_df['revenue'].iloc[0].item()\n",
    "    retorno= pelicula_df['return'].iloc[0].item()\n",
    "    anio = pelicula_df['release_year'].iloc[0].item()\n",
    "    return {'pelicula': pelicula, 'inversion': inversion, 'ganancia': ganancia, 'retorno': retorno, 'anio': anio}"
   ]
  },
  {
   "cell_type": "code",
   "execution_count": 22,
   "metadata": {},
   "outputs": [
    {
     "data": {
      "text/plain": [
       "{'pelicula': 'sabrina',\n",
       " 'inversion': 58000000.0,\n",
       " 'ganancia': 0.0,\n",
       " 'retorno': 0.0,\n",
       " 'anio': 1995}"
      ]
     },
     "execution_count": 22,
     "metadata": {},
     "output_type": "execute_result"
    }
   ],
   "source": [
    "retorno('sabrina')"
   ]
  },
  {
   "cell_type": "markdown",
   "metadata": {},
   "source": [
    "ML"
   ]
  },
  {
   "cell_type": "code",
   "execution_count": 17,
   "metadata": {},
   "outputs": [],
   "source": [
    "from sklearn.feature_extraction.text import TfidfVectorizer\n",
    "from sklearn.metrics.pairwise import linear_kernel"
   ]
  },
  {
   "cell_type": "markdown",
   "metadata": {},
   "source": [
    "Se limita el machine learning para que rendar lo pueda ejecutar sin problemas"
   ]
  },
  {
   "cell_type": "code",
   "execution_count": 27,
   "metadata": {},
   "outputs": [],
   "source": [
    "ml=df.sample(n=2000, random_state=42)"
   ]
  },
  {
   "cell_type": "code",
   "execution_count": 28,
   "metadata": {},
   "outputs": [],
   "source": [
    "tfidf= TfidfVectorizer(stop_words = 'english') \n",
    "ml['overview'] = ml['overview'].fillna('') \n",
    "tfidf_matrix = tfidf.fit_transform(ml['overview']) \n",
    "cosine_sim = linear_kernel(tfidf_matrix, tfidf_matrix)\n",
    "ml.drop_duplicates(inplace=True) \n",
    "ml = ml.reset_index(drop=True) \n",
    "indices = pd.Series(ml.index, index=ml['title'])"
   ]
  },
  {
   "cell_type": "code",
   "execution_count": 29,
   "metadata": {},
   "outputs": [],
   "source": [
    "def recomendacion(titulo):\n",
    "    idx = indices[titulo]\n",
    "    sim_scores = list(enumerate(cosine_sim[idx]))\n",
    "    sim_scores = sorted(sim_scores, key= lambda x: x[1], reverse=True)\n",
    "    sim_scores = sim_scores[1:6]\n",
    "    movie_indices = [i[0] for i in sim_scores]\n",
    "    recommendations=list(ml['title'].iloc[movie_indices].str.title())\n",
    "    return {'lista recomendada': recommendations}\n"
   ]
  },
  {
   "cell_type": "code",
   "execution_count": 30,
   "metadata": {},
   "outputs": [
    {
     "data": {
      "text/plain": [
       "{'lista recomendada': ['The Visitors',\n",
       "  'On A Clear Day',\n",
       "  'Summer In The City',\n",
       "  'Klown',\n",
       "  'Gallipoli']}"
      ]
     },
     "execution_count": 30,
     "metadata": {},
     "output_type": "execute_result"
    }
   ],
   "source": [
    "recomendacion ('Winning')"
   ]
  }
 ],
 "metadata": {
  "kernelspec": {
   "display_name": "Python 3.10.5 64-bit",
   "language": "python",
   "name": "python3"
  },
  "language_info": {
   "codemirror_mode": {
    "name": "ipython",
    "version": 3
   },
   "file_extension": ".py",
   "mimetype": "text/x-python",
   "name": "python",
   "nbconvert_exporter": "python",
   "pygments_lexer": "ipython3",
   "version": "3.10.5"
  },
  "orig_nbformat": 4,
  "vscode": {
   "interpreter": {
    "hash": "aee8b7b246df8f9039afb4144a1f6fd8d2ca17a180786b69acc140d282b71a49"
   }
  }
 },
 "nbformat": 4,
 "nbformat_minor": 2
}
